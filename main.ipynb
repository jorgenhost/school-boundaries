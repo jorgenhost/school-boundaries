{
 "cells": [
  {
   "cell_type": "code",
   "execution_count": 1,
   "id": "686669f4",
   "metadata": {},
   "outputs": [],
   "source": [
    "import os\n",
    "\n",
    "os.environ['POLARS_MAX_THREADS'] = '16'\n",
    "\n",
    "import polars as pl\n",
    "import geopandas as gpd\n",
    "import concurrent.futures\n",
    "import tqdm\n",
    "from functools import lru_cache"
   ]
  },
  {
   "cell_type": "code",
   "execution_count": 2,
   "id": "569b65b7",
   "metadata": {},
   "outputs": [],
   "source": [
    "@lru_cache(maxsize=1)\n",
    "def load_kommune_data():\n",
    "    gdf_kom = gpd.read_parquet('data/kommune.pq').to_crs(25832)\n",
    "    gdf_kom['code'] = gdf_kom['code'].astype('int')\n",
    "    return gdf_kom"
   ]
  },
  {
   "cell_type": "code",
   "execution_count": null,
   "id": "22e9646f",
   "metadata": {},
   "outputs": [],
   "source": [
    "def parse_voronoi(kom: int):\n",
    "\n",
    "    gdf_kom = load_kommune_data()    \n",
    "\n",
    "    df = (pl.scan_parquet('data/adresser.pq', low_memory = True)\n",
    "          .filter(pl.col(\"kommunekode\")==kom)\n",
    "          .select(pl.col(\"vejnavn\", \"husnr\", \"postnr\", \"kommunekode\", \"landsdelsnuts3\"), pl.col(\"etrs89koordinat_øst\").alias(\"etrs89_east\"), pl.col(\"etrs89koordinat_nord\").alias(\"etrs89_north\"))\n",
    "          .filter(pl.struct(pl.col(\"etrs89_east\", \"etrs89_north\")).is_first_distinct())\n",
    "          .collect(engine = 'streaming')\n",
    "          .to_pandas()\n",
    "    )\n",
    "\n",
    "    gdf_adr = gpd.GeoDataFrame(df, geometry=gpd.points_from_xy(x = df.etrs89_east, y=df.etrs89_north), crs=25832)\n",
    "\n",
    "\n",
    "    kom_shape = gdf_kom[gdf_kom['code']==kom].reset_index(drop=True)\n",
    "    gdf_adr['voronoi'] = gdf_adr.voronoi_polygons()\n",
    "\n",
    "    gdf_adr['points'] = gdf_adr['geometry']\n",
    "\n",
    "    gdf_adr = gdf_adr.drop('geometry', axis=1)\n",
    "    gdf_adr = gdf_adr.set_geometry('voronoi')\n",
    "\n",
    "    \n",
    "    gdf_out = gpd.overlay(gdf_adr, kom_shape, how = 'intersection')\n",
    "\n",
    "    print(f'{kom} to voronoi done.')\n",
    "\n",
    "    gdf_out.to_parquet(f'data/voronoi/adresser_voronoi_{kom}.pq')\n",
    "\n",
    "# test = parse_voronoi(306)\n",
    "# test.plot()\n"
   ]
  },
  {
   "cell_type": "code",
   "execution_count": 4,
   "id": "2d8292d7",
   "metadata": {},
   "outputs": [
    {
     "name": "stderr",
     "output_type": "stream",
     "text": [
      "0it [00:00, ?it/s]"
     ]
    },
    {
     "name": "stdout",
     "output_type": "stream",
     "text": [
      "147 to voronoi done.\n",
      "161 to voronoi done.\n",
      "153 to voronoi done.\n",
      "155 to voronoi done.\n",
      "163 to voronoi done.\n",
      "165 to voronoi done.\n",
      "159 to voronoi done.\n",
      "167 to voronoi done.\n",
      "157 to voronoi done.\n",
      "151 to voronoi done.\n",
      "187 to voronoi done.\n",
      "183 to voronoi done.\n",
      "175 to voronoi done.\n",
      "173 to voronoi done.\n",
      "169 to voronoi done.\n",
      "201 to voronoi done.\n",
      "190 to voronoi done.\n",
      "223 to voronoi done.\n",
      "219 to voronoi done.\n",
      "210 to voronoi done.\n",
      "240 to voronoi done.\n",
      "230 to voronoi done.\n",
      "253 to voronoi done.\n",
      "269 to voronoi done.\n",
      "217 to voronoi done.\n",
      "185 to voronoi done.\n",
      "270 to voronoi done.\n",
      "260 to voronoi done.\n",
      "259 to voronoi done.\n",
      "329 to voronoi done.\n",
      "320 to voronoi done.\n",
      "336 to voronoi done.\n",
      "265 to voronoi done.\n",
      "340 to voronoi done.\n",
      "350 to voronoi done.\n",
      "306 to voronoi done.\n",
      "316 to voronoi done.\n",
      "250 to voronoi done.\n",
      "360 to voronoi done.\n",
      "101 to voronoi done.\n"
     ]
    },
    {
     "name": "stderr",
     "output_type": "stream",
     "text": [
      "1it [03:23, 203.60s/it]"
     ]
    },
    {
     "name": "stdout",
     "output_type": "stream",
     "text": [
      "411 to voronoi done.\n",
      "326 to voronoi done.\n"
     ]
    },
    {
     "name": "stderr",
     "output_type": "stream",
     "text": [
      "36it [03:40,  4.05s/it]"
     ]
    },
    {
     "name": "stdout",
     "output_type": "stream",
     "text": [
      "330 to voronoi done.\n"
     ]
    },
    {
     "name": "stderr",
     "output_type": "stream",
     "text": [
      "38it [03:56,  4.91s/it]"
     ]
    },
    {
     "name": "stdout",
     "output_type": "stream",
     "text": [
      "410 to voronoi done.\n",
      "420 to voronoi done.\n",
      "440 to voronoi done.\n",
      "450 to voronoi done.\n",
      "430 to voronoi done.\n",
      "370 to voronoi done.\n"
     ]
    },
    {
     "name": "stderr",
     "output_type": "stream",
     "text": [
      "43it [05:11,  6.99s/it]"
     ]
    },
    {
     "name": "stdout",
     "output_type": "stream",
     "text": [
      "492 to voronoi done.\n",
      "482 to voronoi done.\n",
      "480 to voronoi done.\n",
      "530 to voronoi done.\n",
      "479 to voronoi done.\n",
      "461 to voronoi done.\n",
      "563 to voronoi done.\n",
      "550 to voronoi done.\n",
      "376 to voronoi done.\n"
     ]
    },
    {
     "name": "stderr",
     "output_type": "stream",
     "text": [
      "44it [07:24, 14.10s/it]"
     ]
    },
    {
     "name": "stdout",
     "output_type": "stream",
     "text": [
      "390 to voronoi done.\n"
     ]
    },
    {
     "name": "stderr",
     "output_type": "stream",
     "text": [
      "45it [07:58, 15.57s/it]"
     ]
    },
    {
     "name": "stdout",
     "output_type": "stream",
     "text": [
      "575 to voronoi done.\n",
      "510 to voronoi done.\n",
      "607 to voronoi done.\n",
      "573 to voronoi done.\n"
     ]
    },
    {
     "name": "stderr",
     "output_type": "stream",
     "text": [
      "46it [08:42, 18.38s/it]"
     ]
    },
    {
     "name": "stdout",
     "output_type": "stream",
     "text": [
      "400 to voronoi done.\n",
      "580 to voronoi done.\n",
      "561 to voronoi done.\n",
      "665 to voronoi done.\n",
      "671 to voronoi done.\n"
     ]
    },
    {
     "name": "stderr",
     "output_type": "stream",
     "text": [
      "60it [09:12,  7.70s/it]"
     ]
    },
    {
     "name": "stdout",
     "output_type": "stream",
     "text": [
      "540 to voronoi done.\n",
      "710 to voronoi done.\n",
      "661 to voronoi done.\n",
      "615 to voronoi done.\n"
     ]
    },
    {
     "name": "stderr",
     "output_type": "stream",
     "text": [
      "68it [09:46,  6.45s/it]"
     ]
    },
    {
     "name": "stdout",
     "output_type": "stream",
     "text": [
      "727 to voronoi done.\n",
      "707 to voronoi done.\n",
      "741 to voronoi done.\n",
      "706 to voronoi done.\n",
      "657 to voronoi done.\n",
      "621 to voronoi done.\n"
     ]
    },
    {
     "name": "stderr",
     "output_type": "stream",
     "text": [
      "69it [10:07,  7.32s/it]"
     ]
    },
    {
     "name": "stdout",
     "output_type": "stream",
     "text": [
      "630 to voronoi done.\n"
     ]
    },
    {
     "name": "stderr",
     "output_type": "stream",
     "text": [
      "70it [10:08,  6.87s/it]"
     ]
    },
    {
     "name": "stdout",
     "output_type": "stream",
     "text": [
      "746 to voronoi done.\n",
      "740 to voronoi done.\n",
      "773 to voronoi done.\n",
      "756 to voronoi done.\n",
      "730 to voronoi done.\n"
     ]
    },
    {
     "name": "stderr",
     "output_type": "stream",
     "text": [
      "79it [11:01,  6.35s/it]"
     ]
    },
    {
     "name": "stdout",
     "output_type": "stream",
     "text": [
      "766 to voronoi done.\n",
      "810 to voronoi done.\n",
      "825 to voronoi done.\n",
      "787 to voronoi done.\n",
      "820 to voronoi done.\n",
      "779 to voronoi done.\n",
      "840 to voronoi done.\n",
      "813 to voronoi done.\n",
      "849 to voronoi done.\n",
      "751 to voronoi done.\n"
     ]
    },
    {
     "name": "stderr",
     "output_type": "stream",
     "text": [
      "83it [13:20, 13.18s/it]"
     ]
    },
    {
     "name": "stdout",
     "output_type": "stream",
     "text": [
      "791 to voronoi done.\n",
      "860 to voronoi done.\n",
      "846 to voronoi done.\n"
     ]
    },
    {
     "name": "stderr",
     "output_type": "stream",
     "text": [
      "85it [13:43, 12.93s/it]"
     ]
    },
    {
     "name": "stdout",
     "output_type": "stream",
     "text": [
      "760 to voronoi done.\n",
      "851 to voronoi done.\n"
     ]
    },
    {
     "name": "stderr",
     "output_type": "stream",
     "text": [
      "99it [17:27, 10.58s/it]\n"
     ]
    }
   ],
   "source": [
    "lf = pl.scan_parquet('data/adresser.pq').select(pl.col(\"kommunekode\").unique())\n",
    "kommunerz = lf.collect().to_series().to_list()\n",
    "with concurrent.futures.ThreadPoolExecutor(max_workers = 8) as executor:\n",
    "    res = list(tqdm.tqdm(executor.map(parse_voronoi, kommunerz)))"
   ]
  },
  {
   "cell_type": "code",
   "execution_count": 8,
   "id": "c347dfd4",
   "metadata": {},
   "outputs": [],
   "source": [
    "import glob\n",
    "import pandas as pd\n",
    "\n",
    "vo_list = glob.glob('data/voronoi/adresser_v*.pq')\n",
    "\n",
    "gdf = gpd.read_parquet(vo_list[0])\n",
    "\n",
    "for data in vo_list:\n",
    "    if data == vo_list[0]:\n",
    "        pass\n",
    "    gdf2 = gpd.read_parquet(data)\n",
    "\n",
    "    gdf = pd.concat([gdf, gdf2])\n",
    "\n",
    "gdf = gdf.reset_index(drop = True)\n",
    "\n",
    "gdf.to_parquet('data/adresser_voronoi.pq')"
   ]
  },
  {
   "cell_type": "code",
   "execution_count": null,
   "id": "b62e7417",
   "metadata": {},
   "outputs": [
    {
     "data": {
      "text/html": [
       "<div>\n",
       "<style scoped>\n",
       "    .dataframe tbody tr th:only-of-type {\n",
       "        vertical-align: middle;\n",
       "    }\n",
       "\n",
       "    .dataframe tbody tr th {\n",
       "        vertical-align: top;\n",
       "    }\n",
       "\n",
       "    .dataframe thead th {\n",
       "        text-align: right;\n",
       "    }\n",
       "</style>\n",
       "<table border=\"1\" class=\"dataframe\">\n",
       "  <thead>\n",
       "    <tr style=\"text-align: right;\">\n",
       "      <th></th>\n",
       "      <th>vejnavn</th>\n",
       "      <th>husnr</th>\n",
       "      <th>postnr</th>\n",
       "      <th>kommunekode</th>\n",
       "      <th>landsdelsnuts3</th>\n",
       "      <th>etrs89_east</th>\n",
       "      <th>etrs89_north</th>\n",
       "      <th>address_id</th>\n",
       "      <th>voronoi</th>\n",
       "      <th>points</th>\n",
       "    </tr>\n",
       "  </thead>\n",
       "  <tbody>\n",
       "    <tr>\n",
       "      <th>0</th>\n",
       "      <td>Bakkenellikevej</td>\n",
       "      <td>2</td>\n",
       "      <td>4583</td>\n",
       "      <td>306</td>\n",
       "      <td>DK022</td>\n",
       "      <td>653487.940000</td>\n",
       "      <td>6.203741e+06</td>\n",
       "      <td>2548631</td>\n",
       "      <td>POLYGON ((-8961.698 6202346.066, 309146.199 61...</td>\n",
       "      <td>POINT (653487.94 6203740.87)</td>\n",
       "    </tr>\n",
       "    <tr>\n",
       "      <th>1</th>\n",
       "      <td>Valmuestien</td>\n",
       "      <td>6</td>\n",
       "      <td>3460</td>\n",
       "      <td>230</td>\n",
       "      <td>DK013</td>\n",
       "      <td>714572.710000</td>\n",
       "      <td>6.195075e+06</td>\n",
       "      <td>624411</td>\n",
       "      <td>POLYGON ((-8961.698 6251221.718, 193849.586 62...</td>\n",
       "      <td>POINT (714572.71 6195075.09)</td>\n",
       "    </tr>\n",
       "    <tr>\n",
       "      <th>2</th>\n",
       "      <td>Nyelandsvej</td>\n",
       "      <td>78</td>\n",
       "      <td>2000</td>\n",
       "      <td>147</td>\n",
       "      <td>DK011</td>\n",
       "      <td>721167.760000</td>\n",
       "      <td>6.176715e+06</td>\n",
       "      <td>1863571</td>\n",
       "      <td>POLYGON ((439354.507 6152292.735, 441694.374 6...</td>\n",
       "      <td>POINT (721167.76 6176714.85)</td>\n",
       "    </tr>\n",
       "    <tr>\n",
       "      <th>3</th>\n",
       "      <td>Havrevej</td>\n",
       "      <td>10</td>\n",
       "      <td>2970</td>\n",
       "      <td>223</td>\n",
       "      <td>DK013</td>\n",
       "      <td>717609.060000</td>\n",
       "      <td>6.198722e+06</td>\n",
       "      <td>1831869</td>\n",
       "      <td>POLYGON ((442281.922 6157271.189, 442279.449 6...</td>\n",
       "      <td>POINT (717609.06 6198722.49)</td>\n",
       "    </tr>\n",
       "    <tr>\n",
       "      <th>4</th>\n",
       "      <td>Tvedgade</td>\n",
       "      <td>13H</td>\n",
       "      <td>6760</td>\n",
       "      <td>561</td>\n",
       "      <td>DK032</td>\n",
       "      <td>485270.270000</td>\n",
       "      <td>6.131594e+06</td>\n",
       "      <td>300457</td>\n",
       "      <td>POLYGON ((442279.449 6157229.122, 442281.922 6...</td>\n",
       "      <td>POINT (485270.27 6131594.06)</td>\n",
       "    </tr>\n",
       "    <tr>\n",
       "      <th>...</th>\n",
       "      <td>...</td>\n",
       "      <td>...</td>\n",
       "      <td>...</td>\n",
       "      <td>...</td>\n",
       "      <td>...</td>\n",
       "      <td>...</td>\n",
       "      <td>...</td>\n",
       "      <td>...</td>\n",
       "      <td>...</td>\n",
       "      <td>...</td>\n",
       "    </tr>\n",
       "    <tr>\n",
       "      <th>2603260</th>\n",
       "      <td>Kløvervangen</td>\n",
       "      <td>84B</td>\n",
       "      <td>8541</td>\n",
       "      <td>751</td>\n",
       "      <td>DK042</td>\n",
       "      <td>580541.961084</td>\n",
       "      <td>6.236081e+06</td>\n",
       "      <td>1856797</td>\n",
       "      <td>POLYGON ((892459.702 6121825.714, 892461.613 6...</td>\n",
       "      <td>POINT (580541.961 6236080.534)</td>\n",
       "    </tr>\n",
       "    <tr>\n",
       "      <th>2603261</th>\n",
       "      <td>Helga Pedersens Gade</td>\n",
       "      <td>121</td>\n",
       "      <td>8000</td>\n",
       "      <td>751</td>\n",
       "      <td>DK042</td>\n",
       "      <td>576440.556954</td>\n",
       "      <td>6.225236e+06</td>\n",
       "      <td>2546037</td>\n",
       "      <td>POLYGON ((1343443.947 6028854.169, 1005298.466...</td>\n",
       "      <td>POINT (576440.557 6225235.552)</td>\n",
       "    </tr>\n",
       "    <tr>\n",
       "      <th>2603262</th>\n",
       "      <td>Helga Pedersens Gade</td>\n",
       "      <td>125</td>\n",
       "      <td>8000</td>\n",
       "      <td>751</td>\n",
       "      <td>DK042</td>\n",
       "      <td>576429.198737</td>\n",
       "      <td>6.225231e+06</td>\n",
       "      <td>536266</td>\n",
       "      <td>POLYGON ((892438.811 6147869.878, 892437.364 6...</td>\n",
       "      <td>POINT (576429.199 6225231.225)</td>\n",
       "    </tr>\n",
       "    <tr>\n",
       "      <th>2603263</th>\n",
       "      <td>Thomas Windings Gade</td>\n",
       "      <td>24</td>\n",
       "      <td>8200</td>\n",
       "      <td>751</td>\n",
       "      <td>DK042</td>\n",
       "      <td>571645.363291</td>\n",
       "      <td>6.231257e+06</td>\n",
       "      <td>1560955</td>\n",
       "      <td>POLYGON ((892505.447 6147975.386, 892468.062 6...</td>\n",
       "      <td>POINT (571645.363 6231256.853)</td>\n",
       "    </tr>\n",
       "    <tr>\n",
       "      <th>2603264</th>\n",
       "      <td>Katrinebjergvej</td>\n",
       "      <td>109G</td>\n",
       "      <td>8200</td>\n",
       "      <td>751</td>\n",
       "      <td>DK042</td>\n",
       "      <td>573636.885623</td>\n",
       "      <td>6.226044e+06</td>\n",
       "      <td>122055</td>\n",
       "      <td>POLYGON ((1343443.947 6132771.225, 1174716.292...</td>\n",
       "      <td>POINT (573636.886 6226043.665)</td>\n",
       "    </tr>\n",
       "  </tbody>\n",
       "</table>\n",
       "<p>2603265 rows × 10 columns</p>\n",
       "</div>"
      ],
      "text/plain": [
       "                      vejnavn husnr  postnr  kommunekode landsdelsnuts3  \\\n",
       "0             Bakkenellikevej     2    4583          306          DK022   \n",
       "1                 Valmuestien     6    3460          230          DK013   \n",
       "2                 Nyelandsvej    78    2000          147          DK011   \n",
       "3                    Havrevej    10    2970          223          DK013   \n",
       "4                    Tvedgade   13H    6760          561          DK032   \n",
       "...                       ...   ...     ...          ...            ...   \n",
       "2603260          Kløvervangen   84B    8541          751          DK042   \n",
       "2603261  Helga Pedersens Gade   121    8000          751          DK042   \n",
       "2603262  Helga Pedersens Gade   125    8000          751          DK042   \n",
       "2603263  Thomas Windings Gade    24    8200          751          DK042   \n",
       "2603264       Katrinebjergvej  109G    8200          751          DK042   \n",
       "\n",
       "           etrs89_east  etrs89_north  address_id  \\\n",
       "0        653487.940000  6.203741e+06     2548631   \n",
       "1        714572.710000  6.195075e+06      624411   \n",
       "2        721167.760000  6.176715e+06     1863571   \n",
       "3        717609.060000  6.198722e+06     1831869   \n",
       "4        485270.270000  6.131594e+06      300457   \n",
       "...                ...           ...         ...   \n",
       "2603260  580541.961084  6.236081e+06     1856797   \n",
       "2603261  576440.556954  6.225236e+06     2546037   \n",
       "2603262  576429.198737  6.225231e+06      536266   \n",
       "2603263  571645.363291  6.231257e+06     1560955   \n",
       "2603264  573636.885623  6.226044e+06      122055   \n",
       "\n",
       "                                                   voronoi  \\\n",
       "0        POLYGON ((-8961.698 6202346.066, 309146.199 61...   \n",
       "1        POLYGON ((-8961.698 6251221.718, 193849.586 62...   \n",
       "2        POLYGON ((439354.507 6152292.735, 441694.374 6...   \n",
       "3        POLYGON ((442281.922 6157271.189, 442279.449 6...   \n",
       "4        POLYGON ((442279.449 6157229.122, 442281.922 6...   \n",
       "...                                                    ...   \n",
       "2603260  POLYGON ((892459.702 6121825.714, 892461.613 6...   \n",
       "2603261  POLYGON ((1343443.947 6028854.169, 1005298.466...   \n",
       "2603262  POLYGON ((892438.811 6147869.878, 892437.364 6...   \n",
       "2603263  POLYGON ((892505.447 6147975.386, 892468.062 6...   \n",
       "2603264  POLYGON ((1343443.947 6132771.225, 1174716.292...   \n",
       "\n",
       "                                 points  \n",
       "0          POINT (653487.94 6203740.87)  \n",
       "1          POINT (714572.71 6195075.09)  \n",
       "2          POINT (721167.76 6176714.85)  \n",
       "3          POINT (717609.06 6198722.49)  \n",
       "4          POINT (485270.27 6131594.06)  \n",
       "...                                 ...  \n",
       "2603260  POINT (580541.961 6236080.534)  \n",
       "2603261  POINT (576440.557 6225235.552)  \n",
       "2603262  POINT (576429.199 6225231.225)  \n",
       "2603263  POINT (571645.363 6231256.853)  \n",
       "2603264  POINT (573636.886 6226043.665)  \n",
       "\n",
       "[2603265 rows x 10 columns]"
      ]
     },
     "execution_count": 2,
     "metadata": {},
     "output_type": "execute_result"
    }
   ],
   "source": [
    "lf = pl.scan_parquet('data/adresser.pq').select(\n",
    "    pl.col(\"vejnavn\", \"husnr\", \"postnr\", \"kommunekode\", \"landsdelsnuts3\"), pl.col(\"etrs89koordinat_øst\").alias(\"etrs89_east\"), pl.col(\"etrs89koordinat_nord\").alias(\"etrs89_north\")\n",
    ").filter(pl.struct(pl.col(\"etrs89_east\", \"etrs89_north\")).is_first_distinct()).with_columns(\n",
    "    pl.struct(pl.col(\"etrs89_east\", \"etrs89_north\")).hash().alias(\"address_id\").rank(\"dense\").shrink_dtype()\n",
    ")\n",
    "\n",
    "df = lf.collect(engine = 'streaming').to_pandas()\n",
    "\n",
    "gdf = gpd.GeoDataFrame(df, geometry = gpd.points_from_xy(x = df.etrs89_east, y=df.etrs89_north), crs = 25832)\n",
    "gdf['voronoi'] = gdf.voronoi_polygons()\n",
    "gdf['points'] = gdf['geometry']\n",
    "gdf = gdf.drop('geometry', axis=1)\n",
    "gdf = gdf.set_geometry('voronoi')\n",
    "gdf.to_parquet('data/adresser_geo.pq')\n"
   ]
  },
  {
   "cell_type": "code",
   "execution_count": null,
   "id": "d4083efd",
   "metadata": {},
   "outputs": [],
   "source": [
    "gdf = gpd.read_parquet('data/adresser_geo.pq')\n",
    "gdf_kom = gpd.read_parquet('data/kommune.pq')\n",
    "gdf_kom = gdf_kom.to_crs(25832)\n",
    "\n",
    "gdf = gpd.overlay(gdf, gdf_kom, how = 'intersection')"
   ]
  },
  {
   "cell_type": "code",
   "execution_count": null,
   "id": "e2c1efaf",
   "metadata": {},
   "outputs": [],
   "source": [
    "gdf.to_parquet('data/adresser_geo_voronoi_parsed.pq')"
   ]
  },
  {
   "cell_type": "code",
   "execution_count": null,
   "id": "3af607f9",
   "metadata": {},
   "outputs": [],
   "source": [
    "gdf = gpd.read_parquet('data/adresser_geo.pq')\n",
    "gdf"
   ]
  }
 ],
 "metadata": {
  "kernelspec": {
   "display_name": "school-boundaries (3.12.11)",
   "language": "python",
   "name": "python3"
  },
  "language_info": {
   "codemirror_mode": {
    "name": "ipython",
    "version": 3
   },
   "file_extension": ".py",
   "mimetype": "text/x-python",
   "name": "python",
   "nbconvert_exporter": "python",
   "pygments_lexer": "ipython3",
   "version": "3.12.11"
  }
 },
 "nbformat": 4,
 "nbformat_minor": 5
}
