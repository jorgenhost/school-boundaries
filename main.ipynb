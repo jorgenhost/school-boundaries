{
 "cells": [
  {
   "cell_type": "code",
   "execution_count": 1,
   "id": "686669f4",
   "metadata": {},
   "outputs": [],
   "source": [
    "import os\n",
    "\n",
    "os.environ['POLARS_MAX_THREADS'] = '16'\n",
    "\n",
    "import polars as pl\n",
    "import polars_st as st"
   ]
  },
  {
   "cell_type": "code",
   "execution_count": 2,
   "id": "87fc1320",
   "metadata": {},
   "outputs": [
    {
     "data": {
      "text/html": [
       "<div><style>\n",
       ".dataframe > thead > tr,\n",
       ".dataframe > tbody > tr {\n",
       "  text-align: right;\n",
       "  white-space: pre-wrap;\n",
       "}\n",
       "</style>\n",
       "<small>shape: (5, 8)</small><table border=\"1\" class=\"dataframe\"><thead><tr><th>vejnavn</th><th>husnr</th><th>postnr</th><th>kommunekode</th><th>landsdelsnuts3</th><th>etrs89_east</th><th>etrs89_north</th><th>address_id</th></tr><tr><td>str</td><td>str</td><td>i16</td><td>i16</td><td>str</td><td>f64</td><td>f64</td><td>u32</td></tr></thead><tbody><tr><td>&quot;Bakkenellikevej&quot;</td><td>&quot;2&quot;</td><td>4583</td><td>306</td><td>&quot;DK022&quot;</td><td>653487.94</td><td>6.2037e6</td><td>2548631</td></tr><tr><td>&quot;Valmuestien&quot;</td><td>&quot;6&quot;</td><td>3460</td><td>230</td><td>&quot;DK013&quot;</td><td>714572.71</td><td>6.1951e6</td><td>624411</td></tr><tr><td>&quot;Nyelandsvej&quot;</td><td>&quot;78&quot;</td><td>2000</td><td>147</td><td>&quot;DK011&quot;</td><td>721167.76</td><td>6.1767e6</td><td>1863571</td></tr><tr><td>&quot;Havrevej&quot;</td><td>&quot;10&quot;</td><td>2970</td><td>223</td><td>&quot;DK013&quot;</td><td>717609.06</td><td>6.1987e6</td><td>1831869</td></tr><tr><td>&quot;Tvedgade&quot;</td><td>&quot;13H&quot;</td><td>6760</td><td>561</td><td>&quot;DK032&quot;</td><td>485270.27</td><td>6.1316e6</td><td>300457</td></tr></tbody></table></div>"
      ],
      "text/plain": [
       "shape: (5, 8)\n",
       "┌─────────────┬───────┬────────┬─────────────┬─────────────┬─────────────┬────────────┬────────────┐\n",
       "│ vejnavn     ┆ husnr ┆ postnr ┆ kommunekode ┆ landsdelsnu ┆ etrs89_east ┆ etrs89_nor ┆ address_id │\n",
       "│ ---         ┆ ---   ┆ ---    ┆ ---         ┆ ts3         ┆ ---         ┆ th         ┆ ---        │\n",
       "│ str         ┆ str   ┆ i16    ┆ i16         ┆ ---         ┆ f64         ┆ ---        ┆ u32        │\n",
       "│             ┆       ┆        ┆             ┆ str         ┆             ┆ f64        ┆            │\n",
       "╞═════════════╪═══════╪════════╪═════════════╪═════════════╪═════════════╪════════════╪════════════╡\n",
       "│ Bakkenellik ┆ 2     ┆ 4583   ┆ 306         ┆ DK022       ┆ 653487.94   ┆ 6.2037e6   ┆ 2548631    │\n",
       "│ evej        ┆       ┆        ┆             ┆             ┆             ┆            ┆            │\n",
       "│ Valmuestien ┆ 6     ┆ 3460   ┆ 230         ┆ DK013       ┆ 714572.71   ┆ 6.1951e6   ┆ 624411     │\n",
       "│ Nyelandsvej ┆ 78    ┆ 2000   ┆ 147         ┆ DK011       ┆ 721167.76   ┆ 6.1767e6   ┆ 1863571    │\n",
       "│ Havrevej    ┆ 10    ┆ 2970   ┆ 223         ┆ DK013       ┆ 717609.06   ┆ 6.1987e6   ┆ 1831869    │\n",
       "│ Tvedgade    ┆ 13H   ┆ 6760   ┆ 561         ┆ DK032       ┆ 485270.27   ┆ 6.1316e6   ┆ 300457     │\n",
       "└─────────────┴───────┴────────┴─────────────┴─────────────┴─────────────┴────────────┴────────────┘"
      ]
     },
     "execution_count": 2,
     "metadata": {},
     "output_type": "execute_result"
    }
   ],
   "source": [
    "lf = pl.scan_parquet('data/adresser.pq').select(\n",
    "    pl.col(\"vejnavn\", \"husnr\", \"postnr\", \"kommunekode\", \"landsdelsnuts3\"), pl.col(\"etrs89koordinat_øst\").alias(\"etrs89_east\"), pl.col(\"etrs89koordinat_nord\").alias(\"etrs89_north\")\n",
    ").filter(pl.struct(pl.col(\"etrs89_east\", \"etrs89_north\")).is_first_distinct()).with_columns(\n",
    "    pl.struct(pl.col(\"etrs89_east\", \"etrs89_north\")).hash().alias(\"address_id\").rank(\"dense\").shrink_dtype()\n",
    ")\n",
    "\n",
    "lf.head().collect()"
   ]
  },
  {
   "cell_type": "code",
   "execution_count": 11,
   "id": "eabd63e9",
   "metadata": {},
   "outputs": [
    {
     "ename": "",
     "evalue": "",
     "output_type": "error",
     "traceback": [
      "\u001b[1;31mThe Kernel crashed while executing code in the current cell or a previous cell. \n",
      "\u001b[1;31mPlease review the code in the cell(s) to identify a possible cause of the failure. \n",
      "\u001b[1;31mClick <a href='https://aka.ms/vscodeJupyterKernelCrash'>here</a> for more info. \n",
      "\u001b[1;31mView Jupyter <a href='command:jupyter.viewOutput'>log</a> for further details."
     ]
    }
   ],
   "source": [
    "gdf = st.GeoDataFrame(lf.collect(engine = 'streaming').with_columns(\n",
    "    coords = pl.concat_list(pl.col(\"etrs89_east\", \"etrs89_north\"))\n",
    ").with_columns(\n",
    "    geometry = st.point(\"coords\")\n",
    ").with_columns(\n",
    "    voronoi = st.voronoi_polygons(\"geometry\")\n",
    ")).to_geopandas()\n",
    "\n",
    "gdf"
   ]
  },
  {
   "cell_type": "code",
   "execution_count": null,
   "id": "3af607f9",
   "metadata": {},
   "outputs": [],
   "source": []
  }
 ],
 "metadata": {
  "kernelspec": {
   "display_name": "school-boundaries (3.12.11)",
   "language": "python",
   "name": "python3"
  },
  "language_info": {
   "codemirror_mode": {
    "name": "ipython",
    "version": 3
   },
   "file_extension": ".py",
   "mimetype": "text/x-python",
   "name": "python",
   "nbconvert_exporter": "python",
   "pygments_lexer": "ipython3",
   "version": "3.12.11"
  }
 },
 "nbformat": 4,
 "nbformat_minor": 5
}
