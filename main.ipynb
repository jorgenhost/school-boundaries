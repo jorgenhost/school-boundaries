{
 "cells": [
  {
   "cell_type": "code",
   "execution_count": null,
   "id": "686669f4",
   "metadata": {},
   "outputs": [],
   "source": [
    "import os\n",
    "\n",
    "os.environ['POLARS_MAX_THREADS'] = '16'\n",
    "\n",
    "import polars as pl\n",
    "import geopandas as gpd\n"
   ]
  },
  {
   "cell_type": "code",
   "execution_count": null,
   "id": "d4083efd",
   "metadata": {},
   "outputs": [],
   "source": [
    "gdf = gpd.read_parquet('data/adresser_geo.pq')\n",
    "gdf_kom = gpd.read_parquet('data/kommune.pq')\n",
    "gdf_kom = gdf_kom.to_crs(25832)\n",
    "\n",
    "gdf = gpd.overlay(gdf, gdf_kom, how = 'intersection')"
   ]
  },
  {
   "cell_type": "code",
   "execution_count": null,
   "id": "e2c1efaf",
   "metadata": {},
   "outputs": [],
   "source": [
    "gdf.to_parquet('data/adresser_geo_voronoi_parsed.pq')"
   ]
  },
  {
   "cell_type": "code",
   "execution_count": null,
   "id": "3af607f9",
   "metadata": {},
   "outputs": [],
   "source": [
    "gdf = gpd.read_parquet('data/adresser_geo.pq')\n",
    "gdf"
   ]
  }
 ],
 "metadata": {
  "kernelspec": {
   "display_name": "school-boundaries (3.12.11)",
   "language": "python",
   "name": "python3"
  },
  "language_info": {
   "codemirror_mode": {
    "name": "ipython",
    "version": 3
   },
   "file_extension": ".py",
   "mimetype": "text/x-python",
   "name": "python",
   "nbconvert_exporter": "python",
   "pygments_lexer": "ipython3",
   "version": "3.12.11"
  }
 },
 "nbformat": 4,
 "nbformat_minor": 5
}
